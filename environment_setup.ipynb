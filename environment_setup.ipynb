{
 "cells": [
  {
   "cell_type": "code",
   "execution_count": 1,
   "metadata": {},
   "outputs": [
    {
     "name": "stdout",
     "output_type": "stream",
     "text": [
      "Collecting virtualenv\n",
      "  Downloading virtualenv-20.7.0-py2.py3-none-any.whl (5.3 MB)\n",
      "Requirement already satisfied: filelock<4,>=3.0.0 in c:\\users\\elamathi\\anaconda3\\lib\\site-packages (from virtualenv) (3.0.12)\n",
      "Collecting platformdirs<3,>=2\n",
      "  Downloading platformdirs-2.2.0-py3-none-any.whl (13 kB)\n",
      "Requirement already satisfied: six<2,>=1.9.0 in c:\\users\\elamathi\\anaconda3\\lib\\site-packages (from virtualenv) (1.15.0)\n",
      "Collecting distlib<1,>=0.3.1\n",
      "  Downloading distlib-0.3.2-py2.py3-none-any.whl (338 kB)\n",
      "Collecting backports.entry-points-selectable>=1.0.4\n",
      "  Downloading backports.entry_points_selectable-1.1.0-py2.py3-none-any.whl (6.2 kB)\n",
      "Installing collected packages: platformdirs, distlib, backports.entry-points-selectable, virtualenv\n",
      "Successfully installed backports.entry-points-selectable-1.1.0 distlib-0.3.2 platformdirs-2.2.0 virtualenv-20.7.0\n",
      "Note: you may need to restart the kernel to use updated packages.\n"
     ]
    },
    {
     "name": "stderr",
     "output_type": "stream",
     "text": [
      "WARNING: Value for scheme.headers does not match. Please report this to <https://github.com/pypa/pip/issues/9617>\n",
      "distutils: C:\\Users\\Elamathi\\anaconda3\\Include\\UNKNOWN\n",
      "sysconfig: C:\\Users\\Elamathi\\anaconda3\\Include\n",
      "WARNING: Additional context:\n",
      "user = False\n",
      "home = None\n",
      "root = None\n",
      "prefix = None\n",
      "WARNING: Value for scheme.headers does not match. Please report this to <https://github.com/pypa/pip/issues/9617>\n",
      "distutils: C:\\Users\\Elamathi\\anaconda3\\Include\\UNKNOWN\n",
      "sysconfig: C:\\Users\\Elamathi\\anaconda3\\Include\n",
      "WARNING: Additional context:\n",
      "user = False\n",
      "home = None\n",
      "root = None\n",
      "prefix = None\n",
      "WARNING: You are using pip version 21.1; however, version 21.2.2 is available.\n",
      "You should consider upgrading via the 'C:\\Users\\Elamathi\\anaconda3\\python.exe -m pip install --upgrade pip' command.\n"
     ]
    }
   ],
   "source": [
    "pip install virtualenv"
   ]
  },
  {
   "cell_type": "code",
   "execution_count": 2,
   "metadata": {},
   "outputs": [
    {
     "name": "stdout",
     "output_type": "stream",
     "text": [
      "\n",
      "Usage:   \n",
      "  C:\\Users\\Elamathi\\anaconda3\\python.exe -m pip <command> [options]\n",
      "\n",
      "Commands:\n",
      "  install                     Install packages.\n",
      "  download                    Download packages.\n",
      "  uninstall                   Uninstall packages.\n",
      "  freeze                      Output installed packages in requirements format.\n",
      "  list                        List installed packages.\n",
      "  show                        Show information about installed packages.\n",
      "  check                       Verify installed packages have compatible dependencies.\n",
      "  config                      Manage local and global configuration.\n",
      "  search                      Search PyPI for packages.\n",
      "  cache                       Inspect and manage pip's wheel cache.\n",
      "  wheel                       Build wheels from your requirements.\n",
      "  hash                        Compute hashes of package archives.\n",
      "  completion                  A helper command used for command completion.\n",
      "  debug                       Show information useful for debugging.\n",
      "  help                        Show help for commands.\n",
      "\n",
      "General Options:\n",
      "  -h, --help                  Show help.\n",
      "  --isolated                  Run pip in an isolated mode, ignoring\n",
      "                              environment variables and user configuration.\n",
      "  -v, --verbose               Give more output. Option is additive, and can be\n",
      "                              used up to 3 times.\n",
      "  -V, --version               Show version and exit.\n",
      "  -q, --quiet                 Give less output. Option is additive, and can be\n",
      "                              used up to 3 times (corresponding to WARNING,\n",
      "                              ERROR, and CRITICAL logging levels).\n",
      "  --log <path>                Path to a verbose appending log.\n",
      "  --no-input                  Disable prompting for input.\n",
      "  --proxy <proxy>             Specify a proxy in the form\n",
      "                              [user:passwd@]proxy.server:port.\n",
      "  --retries <retries>         Maximum number of retries each connection should\n",
      "                              attempt (default 5 times).\n",
      "  --timeout <sec>             Set the socket timeout (default 15 seconds).\n",
      "  --exists-action <action>    Default action when a path already exists:\n",
      "                              (s)witch, (i)gnore, (w)ipe, (b)ackup, (a)bort.\n",
      "  --trusted-host <hostname>   Mark this host or host:port pair as trusted,\n",
      "                              even though it does not have valid or any HTTPS.\n",
      "  --cert <path>               Path to PEM-encoded CA certificate bundle. If\n",
      "                              provided, overrides the default. See 'SSL\n",
      "                              Certificate Verification' in pip documentation\n",
      "                              for more information.\n",
      "  --client-cert <path>        Path to SSL client certificate, a single file\n",
      "                              containing the private key and the certificate\n",
      "                              in PEM format.\n",
      "  --cache-dir <dir>           Store the cache data in <dir>.\n",
      "  --no-cache-dir              Disable the cache.\n",
      "  --disable-pip-version-check\n",
      "                              Don't periodically check PyPI to determine\n",
      "                              whether a new version of pip is available for\n",
      "                              download. Implied with --no-index.\n",
      "  --no-color                  Suppress colored output.\n",
      "  --no-python-version-warning\n",
      "                              Silence deprecation warnings for upcoming\n",
      "                              unsupported Pythons.\n",
      "  --use-feature <feature>     Enable new functionality, that may be backward\n",
      "                              incompatible.\n",
      "  --use-deprecated <feature>  Enable deprecated functionality, that will be\n",
      "                              removed in the future.\n",
      "Note: you may need to restart the kernel to use updated packages.\n"
     ]
    }
   ],
   "source": [
    "pip -h"
   ]
  },
  {
   "cell_type": "code",
   "execution_count": 1,
   "metadata": {
    "scrolled": false
   },
   "outputs": [
    {
     "name": "stdout",
     "output_type": "stream",
     "text": [
      "Requirement already satisfied: virtualenv in c:\\users\\elamathi\\anaconda3\\lib\\site-packages (20.7.0)Note: you may need to restart the kernel to use updated packages.\n",
      "Requirement already satisfied: backports.entry-points-selectable>=1.0.4 in c:\\users\\elamathi\\anaconda3\\lib\\site-packages (from virtualenv) (1.1.0)\n",
      "Requirement already satisfied: platformdirs<3,>=2 in c:\\users\\elamathi\\anaconda3\\lib\\site-packages (from virtualenv) (2.2.0)\n",
      "Requirement already satisfied: filelock<4,>=3.0.0 in c:\\users\\elamathi\\anaconda3\\lib\\site-packages (from virtualenv) (3.0.12)\n",
      "Requirement already satisfied: six<2,>=1.9.0 in c:\\users\\elamathi\\anaconda3\\lib\\site-packages (from virtualenv) (1.15.0)\n",
      "Requirement already satisfied: distlib<1,>=0.3.1 in c:\\users\\elamathi\\anaconda3\\lib\\site-packages (from virtualenv) (0.3.2)\n",
      "\n"
     ]
    },
    {
     "name": "stderr",
     "output_type": "stream",
     "text": [
      "WARNING: Value for scheme.headers does not match. Please report this to <https://github.com/pypa/pip/issues/9617>\n",
      "distutils: C:\\Users\\Elamathi\\anaconda3\\Include\\UNKNOWN\n",
      "sysconfig: C:\\Users\\Elamathi\\anaconda3\\Include\n",
      "WARNING: Additional context:\n",
      "user = False\n",
      "home = None\n",
      "root = None\n",
      "prefix = None\n",
      "WARNING: Value for scheme.headers does not match. Please report this to <https://github.com/pypa/pip/issues/9617>\n",
      "distutils: C:\\Users\\Elamathi\\anaconda3\\Include\\UNKNOWN\n",
      "sysconfig: C:\\Users\\Elamathi\\anaconda3\\Include\n",
      "WARNING: Additional context:\n",
      "user = False\n",
      "home = None\n",
      "root = None\n",
      "prefix = None\n",
      "WARNING: You are using pip version 21.1; however, version 21.2.2 is available.\n",
      "You should consider upgrading via the 'C:\\Users\\Elamathi\\anaconda3\\python.exe -m pip install --upgrade pip' command.\n"
     ]
    }
   ],
   "source": [
    "pip install virtualenv"
   ]
  },
  {
   "cell_type": "code",
   "execution_count": 2,
   "metadata": {},
   "outputs": [
    {
     "name": "stdout",
     "output_type": "stream",
     "text": [
      "Requirement already satisfied: pip in c:\\users\\elamathi\\appdata\\roaming\\python\\python38\\site-packages (21.1)\n",
      "Collecting pip\n",
      "  Downloading pip-21.2.2-py3-none-any.whl (1.6 MB)\n",
      "Installing collected packages: pip\n",
      "  Attempting uninstall: pip\n",
      "    Found existing installation: pip 21.1\n",
      "    Uninstalling pip-21.1:\n",
      "      Successfully uninstalled pip-21.1\n",
      "  Rolling back uninstall of pip\n",
      "  Moving to c:\\users\\elamathi\\appdata\\roaming\\python\\python38\\scripts\\pip.exe\n",
      "   from C:\\Users\\Elamathi\\AppData\\Local\\Temp\\pip-uninstall-cixl2f5s\\pip.exe\n",
      "  Moving to c:\\users\\elamathi\\appdata\\roaming\\python\\python38\\scripts\\pip3.8.exe\n",
      "   from C:\\Users\\Elamathi\\AppData\\Local\\Temp\\pip-uninstall-cixl2f5s\\pip3.8.exe\n",
      "  Moving to c:\\users\\elamathi\\appdata\\roaming\\python\\python38\\scripts\\pip3.exe\n",
      "   from C:\\Users\\Elamathi\\AppData\\Local\\Temp\\pip-uninstall-cixl2f5s\\pip3.exe\n",
      "  Moving to c:\\users\\elamathi\\appdata\\roaming\\python\\python38\\site-packages\\pip-21.1.dist-info\\\n",
      "   from C:\\Users\\Elamathi\\AppData\\Roaming\\Python\\Python38\\site-packages\\~ip-21.1.dist-info\n",
      "  Moving to c:\\users\\elamathi\\appdata\\roaming\\python\\python38\\site-packages\\pip\\\n",
      "   from C:\\Users\\Elamathi\\AppData\\Roaming\\Python\\Python38\\site-packages\\~ip\n",
      "Note: you may need to restart the kernel to use updated packages.\n"
     ]
    },
    {
     "name": "stderr",
     "output_type": "stream",
     "text": [
      "WARNING: Value for scheme.headers does not match. Please report this to <https://github.com/pypa/pip/issues/9617>\n",
      "distutils: C:\\Users\\Elamathi\\anaconda3\\Include\\UNKNOWN\n",
      "sysconfig: C:\\Users\\Elamathi\\anaconda3\\Include\n",
      "WARNING: Additional context:\n",
      "user = False\n",
      "home = None\n",
      "root = None\n",
      "prefix = None\n",
      "ERROR: Exception:\n",
      "Traceback (most recent call last):\n",
      "  File \"C:\\Users\\Elamathi\\AppData\\Roaming\\Python\\Python38\\site-packages\\pip\\_internal\\cli\\base_command.py\", line 180, in _main\n",
      "    status = self.run(options, args)\n",
      "  File \"C:\\Users\\Elamathi\\AppData\\Roaming\\Python\\Python38\\site-packages\\pip\\_internal\\cli\\req_command.py\", line 204, in wrapper\n",
      "    return func(self, options, args)\n",
      "  File \"C:\\Users\\Elamathi\\AppData\\Roaming\\Python\\Python38\\site-packages\\pip\\_internal\\commands\\install.py\", line 393, in run\n",
      "    installed = install_given_reqs(\n",
      "  File \"C:\\Users\\Elamathi\\AppData\\Roaming\\Python\\Python38\\site-packages\\pip\\_internal\\req\\__init__.py\", line 77, in install_given_reqs\n",
      "    requirement.install(\n",
      "  File \"C:\\Users\\Elamathi\\AppData\\Roaming\\Python\\Python38\\site-packages\\pip\\_internal\\req\\req_install.py\", line 782, in install\n",
      "    install_wheel(\n",
      "  File \"C:\\Users\\Elamathi\\AppData\\Roaming\\Python\\Python38\\site-packages\\pip\\_internal\\operations\\install\\wheel.py\", line 810, in install_wheel\n",
      "    _install_wheel(\n",
      "  File \"C:\\Users\\Elamathi\\AppData\\Roaming\\Python\\Python38\\site-packages\\pip\\_internal\\operations\\install\\wheel.py\", line 720, in _install_wheel\n",
      "    generated_console_scripts = maker.make_multiple(scripts_to_generate)\n",
      "  File \"C:\\Users\\Elamathi\\AppData\\Roaming\\Python\\Python38\\site-packages\\pip\\_vendor\\distlib\\scripts.py\", line 418, in make_multiple\n",
      "    filenames.extend(self.make(specification, options))\n",
      "  File \"C:\\Users\\Elamathi\\AppData\\Roaming\\Python\\Python38\\site-packages\\pip\\_internal\\operations\\install\\wheel.py\", line 462, in make\n",
      "    return super().make(specification, options)\n",
      "  File \"C:\\Users\\Elamathi\\AppData\\Roaming\\Python\\Python38\\site-packages\\pip\\_vendor\\distlib\\scripts.py\", line 407, in make\n",
      "    self._make_script(entry, filenames, options=options)\n",
      "  File \"C:\\Users\\Elamathi\\AppData\\Roaming\\Python\\Python38\\site-packages\\pip\\_vendor\\distlib\\scripts.py\", line 307, in _make_script\n",
      "    self._write_script(scriptnames, shebang, script, filenames, ext)\n",
      "  File \"C:\\Users\\Elamathi\\AppData\\Roaming\\Python\\Python38\\site-packages\\pip\\_vendor\\distlib\\scripts.py\", line 242, in _write_script\n",
      "    launcher = self._get_launcher('t')\n",
      "  File \"C:\\Users\\Elamathi\\AppData\\Roaming\\Python\\Python38\\site-packages\\pip\\_vendor\\distlib\\scripts.py\", line 386, in _get_launcher\n",
      "    raise ValueError(msg)\n",
      "ValueError: Unable to find resource t64.exe in package pip._vendor.distlib\n",
      "WARNING: You are using pip version 21.1; however, version 21.2.2 is available.\n",
      "You should consider upgrading via the 'C:\\Users\\Elamathi\\anaconda3\\python.exe -m pip install --upgrade pip' command.\n"
     ]
    }
   ],
   "source": [
    "pip install --upgrade pip\n"
   ]
  },
  {
   "cell_type": "code",
   "execution_count": 3,
   "metadata": {},
   "outputs": [
    {
     "name": "stdout",
     "output_type": "stream",
     "text": [
      "Requirement already satisfied: pip in c:\\users\\elamathi\\appdata\\roaming\\python\\python38\\site-packages (21.1)\n",
      "Collecting pip\n",
      "  Using cached pip-21.2.2-py3-none-any.whl (1.6 MB)\n",
      "Installing collected packages: pip\n",
      "  Attempting uninstall: pip\n",
      "    Found existing installation: pip 21.1\n",
      "    Uninstalling pip-21.1:\n",
      "      Successfully uninstalled pip-21.1\n",
      "Successfully installed pip-21.2.2\n",
      "Note: you may need to restart the kernel to use updated packages.\n"
     ]
    },
    {
     "name": "stderr",
     "output_type": "stream",
     "text": [
      "  WARNING: The scripts pip.exe, pip3.8.exe and pip3.exe are installed in 'C:\\Users\\Elamathi\\AppData\\Roaming\\Python\\Python38\\Scripts' which is not on PATH.\n",
      "  Consider adding this directory to PATH or, if you prefer to suppress this warning, use --no-warn-script-location.\n",
      "WARNING: Value for scheme.headers does not match. Please report this to <https://github.com/pypa/pip/issues/9617>\n",
      "distutils: C:\\Users\\Elamathi\\AppData\\Roaming\\Python\\Python38\\Include\\UNKNOWN\n",
      "sysconfig: C:\\Users\\Elamathi\\AppData\\Roaming\\Python\\Python38\\Include\n",
      "WARNING: Additional context:\n",
      "user = True\n",
      "home = None\n",
      "root = None\n",
      "prefix = None\n"
     ]
    }
   ],
   "source": [
    "pip install --upgrade pip --user\n"
   ]
  },
  {
   "cell_type": "code",
   "execution_count": 1,
   "metadata": {},
   "outputs": [
    {
     "name": "stdout",
     "output_type": "stream",
     "text": [
      "Requirement already satisfied: virtualenv in c:\\users\\elamathi\\anaconda3\\lib\\site-packages (20.7.0)\n",
      "Requirement already satisfied: filelock<4,>=3.0.0 in c:\\users\\elamathi\\anaconda3\\lib\\site-packages (from virtualenv) (3.0.12)\n",
      "Requirement already satisfied: backports.entry-points-selectable>=1.0.4 in c:\\users\\elamathi\\anaconda3\\lib\\site-packages (from virtualenv) (1.1.0)\n",
      "Requirement already satisfied: distlib<1,>=0.3.1 in c:\\users\\elamathi\\anaconda3\\lib\\site-packages (from virtualenv) (0.3.2)\n",
      "Requirement already satisfied: six<2,>=1.9.0 in c:\\users\\elamathi\\anaconda3\\lib\\site-packages (from virtualenv) (1.15.0)\n",
      "Requirement already satisfied: platformdirs<3,>=2 in c:\\users\\elamathi\\anaconda3\\lib\\site-packages (from virtualenv) (2.2.0)\n",
      "Note: you may need to restart the kernel to use updated packages.\n"
     ]
    }
   ],
   "source": [
    "pip install virtualenv"
   ]
  },
  {
   "cell_type": "code",
   "execution_count": 3,
   "metadata": {},
   "outputs": [
    {
     "name": "stdout",
     "output_type": "stream",
     "text": [
      "Requirement already satisfied: virtualenv in c:\\users\\elamathi\\anaconda3\\lib\\site-packages (20.7.0)\n",
      "Requirement already satisfied: six<2,>=1.9.0 in c:\\users\\elamathi\\anaconda3\\lib\\site-packages (from virtualenv) (1.15.0)\n",
      "Requirement already satisfied: filelock<4,>=3.0.0 in c:\\users\\elamathi\\anaconda3\\lib\\site-packages (from virtualenv) (3.0.12)\n",
      "Requirement already satisfied: backports.entry-points-selectable>=1.0.4 in c:\\users\\elamathi\\anaconda3\\lib\\site-packages (from virtualenv) (1.1.0)\n",
      "Requirement already satisfied: distlib<1,>=0.3.1 in c:\\users\\elamathi\\anaconda3\\lib\\site-packages (from virtualenv) (0.3.2)\n",
      "Requirement already satisfied: platformdirs<3,>=2 in c:\\users\\elamathi\\anaconda3\\lib\\site-packages (from virtualenv) (2.2.0)\n"
     ]
    }
   ],
   "source": [
    "!pip install virtualenv"
   ]
  },
  {
   "cell_type": "code",
   "execution_count": 4,
   "metadata": {},
   "outputs": [
    {
     "name": "stdout",
     "output_type": "stream",
     "text": [
      "created virtual environment CPython3.8.5.final.0-64 in 896ms\n",
      "  creator CPython3Windows(dest=C:\\Users\\Elamathi\\Documents\\python_program\\venv, clear=False, no_vcs_ignore=False, global=False)\n",
      "  seeder FromAppData(download=False, pip=bundle, setuptools=bundle, wheel=bundle, via=copy, app_data_dir=C:\\Users\\Elamathi\\AppData\\Local\\pypa\\virtualenv)\n",
      "    added seed packages: pip==21.2.2, setuptools==57.4.0, wheel==0.36.2\n",
      "  activators BashActivator,BatchActivator,FishActivator,PowerShellActivator,PythonActivator\n"
     ]
    }
   ],
   "source": [
    "!virtualenv venv"
   ]
  },
  {
   "cell_type": "code",
   "execution_count": 5,
   "metadata": {},
   "outputs": [
    {
     "name": "stdout",
     "output_type": "stream",
     "text": [
      "Requirement already satisfied: requests in c:\\users\\elamathi\\anaconda3\\lib\\site-packages (2.24.0)\n",
      "Requirement already satisfied: certifi>=2017.4.17 in c:\\users\\elamathi\\anaconda3\\lib\\site-packages (from requests) (2020.6.20)\n",
      "Requirement already satisfied: urllib3!=1.25.0,!=1.25.1,<1.26,>=1.21.1 in c:\\users\\elamathi\\anaconda3\\lib\\site-packages (from requests) (1.25.11)\n",
      "Requirement already satisfied: chardet<4,>=3.0.2 in c:\\users\\elamathi\\anaconda3\\lib\\site-packages (from requests) (3.0.4)\n",
      "Requirement already satisfied: idna<3,>=2.5 in c:\\users\\elamathi\\anaconda3\\lib\\site-packages (from requests) (2.10)\n"
     ]
    }
   ],
   "source": [
    "!pip install requests"
   ]
  },
  {
   "cell_type": "code",
   "execution_count": 6,
   "metadata": {},
   "outputs": [
    {
     "name": "stdout",
     "output_type": "stream",
     "text": [
      "Requirement already satisfied: matplotlib in c:\\users\\elamathi\\anaconda3\\lib\\site-packages (3.3.2)\n",
      "Requirement already satisfied: pillow>=6.2.0 in c:\\users\\elamathi\\anaconda3\\lib\\site-packages (from matplotlib) (8.0.1)\n",
      "Requirement already satisfied: python-dateutil>=2.1 in c:\\users\\elamathi\\anaconda3\\lib\\site-packages (from matplotlib) (2.8.1)\n",
      "Requirement already satisfied: certifi>=2020.06.20 in c:\\users\\elamathi\\anaconda3\\lib\\site-packages (from matplotlib) (2020.6.20)\n",
      "Requirement already satisfied: pyparsing!=2.0.4,!=2.1.2,!=2.1.6,>=2.0.3 in c:\\users\\elamathi\\anaconda3\\lib\\site-packages (from matplotlib) (2.4.7)\n",
      "Requirement already satisfied: numpy>=1.15 in c:\\users\\elamathi\\anaconda3\\lib\\site-packages (from matplotlib) (1.19.2)\n",
      "Requirement already satisfied: kiwisolver>=1.0.1 in c:\\users\\elamathi\\anaconda3\\lib\\site-packages (from matplotlib) (1.3.0)\n",
      "Requirement already satisfied: cycler>=0.10 in c:\\users\\elamathi\\anaconda3\\lib\\site-packages (from matplotlib) (0.10.0)\n",
      "Requirement already satisfied: six in c:\\users\\elamathi\\anaconda3\\lib\\site-packages (from cycler>=0.10->matplotlib) (1.15.0)\n"
     ]
    }
   ],
   "source": [
    "!pip install matplotlib"
   ]
  },
  {
   "cell_type": "code",
   "execution_count": 7,
   "metadata": {},
   "outputs": [
    {
     "name": "stdout",
     "output_type": "stream",
     "text": [
      "Requirement already satisfied: pandas in c:\\users\\elamathi\\anaconda3\\lib\\site-packages (1.2.4)\n",
      "Requirement already satisfied: python-dateutil>=2.7.3 in c:\\users\\elamathi\\anaconda3\\lib\\site-packages (from pandas) (2.8.1)\n",
      "Requirement already satisfied: pytz>=2017.3 in c:\\users\\elamathi\\anaconda3\\lib\\site-packages (from pandas) (2020.1)\n",
      "Requirement already satisfied: numpy>=1.16.5 in c:\\users\\elamathi\\anaconda3\\lib\\site-packages (from pandas) (1.19.2)\n",
      "Requirement already satisfied: six>=1.5 in c:\\users\\elamathi\\anaconda3\\lib\\site-packages (from python-dateutil>=2.7.3->pandas) (1.15.0)\n"
     ]
    }
   ],
   "source": [
    "!pip install pandas"
   ]
  },
  {
   "cell_type": "code",
   "execution_count": 8,
   "metadata": {},
   "outputs": [
    {
     "name": "stdout",
     "output_type": "stream",
     "text": [
      "Collecting django\n",
      "  Downloading Django-3.2.6-py3-none-any.whl (7.9 MB)\n",
      "Collecting asgiref<4,>=3.3.2\n",
      "  Downloading asgiref-3.4.1-py3-none-any.whl (25 kB)\n",
      "Requirement already satisfied: pytz in c:\\users\\elamathi\\anaconda3\\lib\\site-packages (from django) (2020.1)\n",
      "Collecting sqlparse>=0.2.2\n",
      "  Downloading sqlparse-0.4.1-py3-none-any.whl (42 kB)\n",
      "Installing collected packages: sqlparse, asgiref, django\n",
      "Successfully installed asgiref-3.4.1 django-3.2.6 sqlparse-0.4.1\n"
     ]
    }
   ],
   "source": [
    "!pip install django\n"
   ]
  },
  {
   "cell_type": "code",
   "execution_count": null,
   "metadata": {},
   "outputs": [],
   "source": []
  }
 ],
 "metadata": {
  "kernelspec": {
   "display_name": "Python 3",
   "language": "python",
   "name": "python3"
  },
  "language_info": {
   "codemirror_mode": {
    "name": "ipython",
    "version": 3
   },
   "file_extension": ".py",
   "mimetype": "text/x-python",
   "name": "python",
   "nbconvert_exporter": "python",
   "pygments_lexer": "ipython3",
   "version": "3.8.5"
  }
 },
 "nbformat": 4,
 "nbformat_minor": 4
}
